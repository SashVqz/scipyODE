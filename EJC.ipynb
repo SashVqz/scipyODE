{
 "cells": [
  {
   "cell_type": "code",
   "execution_count": 1,
   "metadata": {},
   "outputs": [],
   "source": [
    "import sympy as sp\n",
    "\n",
    "x, y = sp.symbols('x y')"
   ]
  },
  {
   "cell_type": "code",
   "execution_count": 2,
   "metadata": {},
   "outputs": [
    {
     "name": "stdout",
     "output_type": "stream",
     "text": [
      "The first equation is exact\n",
      "Implicit solution of the first equation: x**2*(1/2 - y**2/2) + 4*y**2 = C\n"
     ]
    }
   ],
   "source": [
    "# First equation\n",
    "# (8y - x^2 y) * dy/dx + (x - xy^2) = 0\n",
    "N1 = 8*y - x**2*y\n",
    "M1 = x - x*y**2\n",
    "\n",
    "dM1_dy = sp.diff(M1, y)\n",
    "dN1_dx = sp.diff(N1, x)\n",
    "exact1 = sp.simplify(dM1_dy - dN1_dx)\n",
    "if exact1 == 0:\n",
    "    print(\"The first equation is exact\")\n",
    "\n",
    "    Psi1 = sp.integrate(M1, x) + sp.integrate(N1 - sp.diff(sp.integrate(M1, x), y), y)\n",
    "    print(\"Implicit solution of the first equation:\", Psi1, \"= C\")\n",
    "else:\n",
    "    print(\"The first equation is not exact\")"
   ]
  },
  {
   "cell_type": "code",
   "execution_count": 3,
   "metadata": {},
   "outputs": [
    {
     "name": "stdout",
     "output_type": "stream",
     "text": [
      "The second equation is exact\n",
      "Implicit solution of the second equation: x**2*y**2 + exp(4*x)/4 + sin(y) = C\n"
     ]
    }
   ],
   "source": [
    "# Second equation\n",
    "# (e^(4x) + 2xy^2) dx + (cos(y) + 2x^2 y) dy = 0\n",
    "M2 = sp.exp(4*x) + 2*x*y**2\n",
    "N2 = sp.cos(y) + 2*x**2*y\n",
    "\n",
    "# Check if the second equation is exact\n",
    "dM2_dy = sp.diff(M2, y)\n",
    "dN2_dx = sp.diff(N2, x)\n",
    "exact2 = sp.simplify(dM2_dy - dN2_dx)\n",
    "if exact2 == 0:\n",
    "    print(\"The second equation is exact\")\n",
    "\n",
    "    Psi2 = sp.integrate(M2, x) + sp.integrate(N2 - sp.diff(sp.integrate(M2, x), y), y)\n",
    "    print(\"Implicit solution of the second equation:\", Psi2, \"= C\")\n",
    "else:\n",
    "    print(\"The second equation is not exact\")"
   ]
  }
 ],
 "metadata": {
  "kernelspec": {
   "display_name": ".venv",
   "language": "python",
   "name": "python3"
  },
  "language_info": {
   "codemirror_mode": {
    "name": "ipython",
    "version": 3
   },
   "file_extension": ".py",
   "mimetype": "text/x-python",
   "name": "python",
   "nbconvert_exporter": "python",
   "pygments_lexer": "ipython3",
   "version": "3.12.4"
  }
 },
 "nbformat": 4,
 "nbformat_minor": 2
}
